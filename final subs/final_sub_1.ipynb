{
 "cells": [
  {
   "cell_type": "code",
   "execution_count": 1,
   "metadata": {
    "_cell_guid": "b1076dfc-b9ad-4769-8c92-a6c4dae69d19",
    "_uuid": "8f2839f25d086af736a60e9eeb907d3b93b6e0e5"
   },
   "outputs": [
    {
     "name": "stderr",
     "output_type": "stream",
     "text": [
      "Using TensorFlow backend.\n"
     ]
    }
   ],
   "source": [
    "import numpy as np\n",
    "import pandas as pd\n",
    "import matplotlib.pyplot as plt\n",
    "import seaborn as sns\n",
    "\n",
    "import sys\n",
    "import os\n",
    "import time\n",
    "import datetime\n",
    "import gc\n",
    "import random\n",
    "import re\n",
    "import operator\n",
    "import pickle\n",
    "from tqdm import tqdm\n",
    "from joblib import Parallel, delayed\n",
    "\n",
    "from sklearn.model_selection import StratifiedKFold,KFold\n",
    "from sklearn.metrics import f1_score,precision_score,recall_score,roc_auc_score,log_loss\n",
    "\n",
    "\n",
    "import torch\n",
    "import torch.nn as nn\n",
    "from torch.autograd import Variable\n",
    "from torch.utils.data import DataLoader,TensorDataset,Dataset\n",
    "from torch.nn.utils.rnn import pack_padded_sequence, pad_packed_sequence\n",
    "from torch.optim.optimizer import Optimizer\n",
    "\n",
    "from keras.preprocessing.text import Tokenizer,text_to_word_sequence\n",
    "from keras.preprocessing.sequence import pad_sequences\n",
    "\n",
    "# stemmer\n",
    "from nltk.stem import PorterStemmer\n",
    "ps = PorterStemmer()\n",
    "from nltk.stem.lancaster import LancasterStemmer\n",
    "lc = LancasterStemmer()\n",
    "from nltk.stem import SnowballStemmer\n",
    "sb = SnowballStemmer(\"english\")\n",
    "\n",
    "def seed_everything(SEED=42):\n",
    "    random.seed(SEED)\n",
    "    np.random.seed(SEED)\n",
    "    torch.manual_seed(SEED)\n",
    "    torch.cuda.manual_seed(SEED)\n",
    "    torch.cuda.manual_seed_all(SEED)\n",
    "    torch.backends.cudnn.deterministic = True\n",
    "    os.environ['PYTHONHASHSEED'] = str(SEED)\n",
    "    torch.backends.cudnn.benchmark = False\n",
    "\n",
    "def init_func(worker_id):\n",
    "    np.random.seed(SEED+worker_id)\n",
    "\n",
    "tqdm.pandas()\n",
    "\n",
    "# noting down the run time of the kernel\n",
    "t1=time.time()\n",
    "\n",
    "def logit(x):\n",
    "    return np.log(x/(1-x))\n",
    "\n",
    "def sigmoid(x):\n",
    "    return (1/(1+np.exp(-x)))"
   ]
  },
  {
   "cell_type": "code",
   "execution_count": 2,
   "metadata": {
    "_cell_guid": "79c7e3d0-c299-4dcb-8224-4455121ee9b0",
    "_uuid": "d629ff2d2480ee46fbb7e2d37f6b5fab8052498a"
   },
   "outputs": [],
   "source": [
    "sample=pd.read_csv(\"../input/jigsaw-unintended-bias-in-toxicity-classification/sample_submission.csv\")\n",
    "# print(sample.shape)\n",
    "\n",
    "# display(sample.head())"
   ]
  },
  {
   "cell_type": "markdown",
   "metadata": {},
   "source": [
    "## NEW BERT INFERENCE"
   ]
  },
  {
   "cell_type": "code",
   "execution_count": 3,
   "metadata": {},
   "outputs": [
    {
     "name": "stdout",
     "output_type": "stream",
     "text": [
      "(97320, 252)\n",
      "CPU times: user 2.56 s, sys: 516 ms, total: 3.07 s\n",
      "Wall time: 1min 28s\n"
     ]
    }
   ],
   "source": [
    "%%time\n",
    "MAX_SEQUENCE_LENGTH = 250\n",
    "SEED = 42\n",
    "\n",
    "package_dir_a = \"../input/ppbert/pytorch-pretrained-bert/pytorch-pretrained-BERT/\"\n",
    "BERT_MODEL_PATH = '../input/bert-pretrained-models/uncased_l-12_h-768_a-12/uncased_L-12_H-768_A-12/'\n",
    "\n",
    "from pytorch_pretrained_bert.modeling import BertPreTrainedModel, BertConfig\n",
    "from pytorch_pretrained_bert import convert_tf_checkpoint_to_pytorch\n",
    "from pytorch_pretrained_bert import BertTokenizer,BertAdam,BertModel\n",
    "bert_config = BertConfig.from_json_file(BERT_MODEL_PATH + 'bert_config.json')\n",
    "\n",
    "class BertForSequenceClassification(BertPreTrainedModel):\n",
    "    \"\"\"BERT model for classification.\"\"\"\n",
    "    def __init__(self, config, num_labels=2):\n",
    "        super(BertForSequenceClassification, self).__init__(config)\n",
    "        self.num_labels = num_labels\n",
    "        self.bert = BertModel(config)\n",
    "        self.dropout = nn.Dropout(config.hidden_dropout_prob)\n",
    "        self.classifier = nn.Linear(2304, num_labels)\n",
    "        self.apply(self.init_bert_weights)\n",
    "\n",
    "    def forward(self, input_ids, token_type_ids=None, attention_mask=None, labels=None):\n",
    "        layer_output, pooled_output = self.bert(input_ids, token_type_ids, attention_mask, output_all_encoded_layers=False)\n",
    "        avg_pool = torch.mean(layer_output, 1)\n",
    "        max_pool, _ = torch.max(layer_output, 1)\n",
    "        h_conc = torch.cat((avg_pool, max_pool, pooled_output), 1)\n",
    "        # final_output = torch.cat((h_conc, pooled_output), 1)\n",
    "        pooled_output = self.dropout(h_conc)\n",
    "        logits = self.classifier(pooled_output)\n",
    "\n",
    "        if labels is not None:\n",
    "            loss_fct = CrossEntropyLoss()\n",
    "            loss = loss_fct(logits.view(-1, self.num_labels), labels.view(-1))\n",
    "            return loss\n",
    "        else:\n",
    "            return logits\n",
    "\n",
    "bert_tokenizer = BertTokenizer.from_pretrained(BERT_MODEL_PATH, cache_dir=None,do_lower_case=True)\n",
    "bert_config = BertConfig.from_json_file(BERT_MODEL_PATH + 'bert_config.json')\n",
    "\n",
    "def convert_lines_bert(x):\n",
    "    tokens_a = bert_tokenizer.tokenize(x)\n",
    "    if len(tokens_a) > MAX_SEQUENCE_LENGTH:\n",
    "        tokens_a = tokens_a[-MAX_SEQUENCE_LENGTH:]\n",
    "    \n",
    "    one_token = bert_tokenizer.convert_tokens_to_ids([\"[CLS]\"] + tokens_a + [\"[SEP]\"]) + \\\n",
    "                [0]*(MAX_SEQUENCE_LENGTH-len(tokens_a))\n",
    "    \n",
    "    return np.array(one_token)\n",
    "\n",
    "test = pd.read_csv(\"../input/jigsaw-unintended-bias-in-toxicity-classification/test.csv\")\n",
    "test['comment_text'] = test['comment_text'].fillna(\"__NOT AVAILABLE__\").astype(str)\n",
    "\n",
    "X_test = np.array(Parallel(n_jobs=4,backend=\"multiprocessing\")(delayed(convert_lines_bert)(x) for x in test['comment_text'].copy()))\n",
    "print(X_test.shape)"
   ]
  },
  {
   "cell_type": "code",
   "execution_count": 4,
   "metadata": {},
   "outputs": [
    {
     "name": "stdout",
     "output_type": "stream",
     "text": [
      "fine_tuned_bert_uncased_drop_0.2_fold_1_seed_42.bin\r\n",
      "fine_tuned_bert_uncased_drop_0.2_fold_2_seed_42.bin\r\n",
      "fine_tuned_bert_uncased_drop_0.2_fold_3_seed_42.bin\r\n",
      "fine_tuned_bert_uncased_drop_0.2_fold_4_seed_42.bin\r\n",
      "fine_tuned_bert_uncased_drop_0.2_fold_5_seed_42.bin\r\n",
      "fine_tuned_bert_uncased_fold_1_seed_42.bin\r\n",
      "fine_tuned_bert_uncased_fold_2_seed_42.bin\r\n",
      "fine_tuned_bert_uncased_fold_3_seed_42.bin\r\n",
      "fine_tuned_bert_uncased_fold_4_seed_42.bin\r\n",
      "fine_tuned_bert_uncased_fold_5_seed_42.bin\r\n",
      "fine_tuned_bert_uncased_lr_decrease_drop_0.4_fold_1_seed_10796.bin\r\n",
      "fine_tuned_bert_uncased_lr_decrease_drop_0.4_fold_2_seed_10796.bin\r\n",
      "fine_tuned_bert_uncased_lr_decrease_drop_0.4_fold_3_seed_10796.bin\r\n",
      "fine_tuned_bert_uncased_lr_decrease_drop_0.4_fold_4_seed_10796.bin\r\n",
      "fine_tuned_bert_uncased_lr_decrease_drop_0.4_fold_5_seed_10796.bin\r\n",
      "fine_tuned_bert_uncased_lr_decrease_fold_1_seed_10796.bin\r\n",
      "fine_tuned_bert_uncased_lr_decrease_fold_2_seed_10796.bin\r\n",
      "fine_tuned_bert_uncased_lr_decrease_fold_3_seed_10796.bin\r\n",
      "fine_tuned_bert_uncased_lr_decrease_fold_4_seed_10796.bin\r\n",
      "fine_tuned_bert_uncased_lr_decrease_fold_5_seed_10796.bin\r\n"
     ]
    }
   ],
   "source": [
    "! ls ../input/machaogongbertmodels"
   ]
  },
  {
   "cell_type": "code",
   "execution_count": 5,
   "metadata": {},
   "outputs": [
    {
     "name": "stderr",
     "output_type": "stream",
     "text": [
      "                                                 \r"
     ]
    },
    {
     "data": {
      "text/plain": [
       "array([0.05506802, 0.02594015, 0.13303767, 0.07483855, 0.81706617,\n",
       "       0.02735929, 0.08431552, 0.10653062, 0.21092247, 0.16753298])"
      ]
     },
     "execution_count": 5,
     "metadata": {},
     "output_type": "execute_result"
    }
   ],
   "source": [
    "file_names = [\n",
    "              'fine_tuned_bert_uncased_drop_0.2_fold_4_seed_42.bin',\n",
    "              'fine_tuned_bert_uncased_fold_4_seed_42.bin',\n",
    "              'fine_tuned_bert_uncased_lr_decrease_fold_2_seed_10796.bin',\n",
    "              'fine_tuned_bert_uncased_drop_0.2_fold_1_seed_42.bin',\n",
    "              'fine_tuned_bert_uncased_drop_0.2_fold_3_seed_42.bin',\n",
    "              'fine_tuned_bert_uncased_fold_1_seed_42.bin'\n",
    "             ]\n",
    "\n",
    "aux_cols=['target','severe_toxicity','obscene','identity_attack','insult','threat']\n",
    "\n",
    "test_preds_new_uncased_bert = np.zeros((X_test.shape[0],))\n",
    "\n",
    "for filename in file_names:\n",
    "    model = BertForSequenceClassification(bert_config,num_labels=len(aux_cols)+1)\n",
    "    model.load_state_dict(torch.load(\"../input/machaogongbertmodels/\"+filename))\n",
    "    model.cuda()\n",
    "    for param in model.parameters():\n",
    "        param.requires_grad=False\n",
    "    model.eval()\n",
    "    \n",
    "    batch_size = 128\n",
    "    test_index = 0\n",
    "    test_preds_per_file = np.zeros((X_test.shape[0],))\n",
    "    test_dataset = TensorDataset(torch.tensor(X_test,dtype=torch.long))\n",
    "    test_loader = DataLoader(test_dataset,batch_size=batch_size,shuffle = False)  # set shuffle = False.\n",
    "    \n",
    "    for batch,(x_test,) in  tqdm(enumerate(test_loader),total = len(test_loader),leave = False):\n",
    "        x_test = x_test.cuda()\n",
    "        attention_mask = (x_test>0).cuda()\n",
    "        # the model gives logits .... \n",
    "        y_pred = torch.sigmoid(model.forward(x_test,attention_mask=attention_mask,labels=None))\n",
    "        \n",
    "        test_preds_per_file[test_index : test_index+x_test.shape[0]] = y_pred[:,0].cpu().detach().squeeze().numpy()\n",
    "        \n",
    "        test_index = test_index + x_test.shape[0]\n",
    "        \n",
    "    test_preds_new_uncased_bert = test_preds_new_uncased_bert + test_preds_per_file/len(file_names)\n",
    "    \n",
    "    gc.enable()\n",
    "    del model,test_dataset,test_loader,x_test\n",
    "    gc.collect()\n",
    "    \n",
    "gc.enable()\n",
    "del test,X_test,bert_tokenizer,bert_config\n",
    "gc.collect()\n",
    "\n",
    "test_preds_new_uncased_bert[0:10]"
   ]
  },
  {
   "cell_type": "markdown",
   "metadata": {},
   "source": [
    "## BERT UNCASED MODEL INFERENCE"
   ]
  },
  {
   "cell_type": "code",
   "execution_count": 6,
   "metadata": {},
   "outputs": [
    {
     "name": "stdout",
     "output_type": "stream",
     "text": [
      "(97320, 252)\n",
      "CPU times: user 2.22 s, sys: 780 ms, total: 3 s\n",
      "Wall time: 1min 27s\n"
     ]
    }
   ],
   "source": [
    "%%time\n",
    "MAX_SEQUENCE_LENGTH = 250\n",
    "SEED = 42\n",
    "\n",
    "package_dir_a = \"../input/ppbert/pytorch-pretrained-bert/pytorch-pretrained-BERT/\"\n",
    "BERT_MODEL_PATH = '../input/bert-pretrained-models/uncased_l-12_h-768_a-12/uncased_L-12_H-768_A-12/'\n",
    "\n",
    "from pytorch_pretrained_bert.modeling import BertConfig,BertForSequenceClassification\n",
    "from pytorch_pretrained_bert.tokenization import BertTokenizer\n",
    "\n",
    "bert_tokenizer = BertTokenizer.from_pretrained(BERT_MODEL_PATH+\"vocab.txt\", cache_dir=None,do_lower_case=True)\n",
    "bert_config = BertConfig.from_json_file(BERT_MODEL_PATH + 'bert_config.json')\n",
    "\n",
    "def convert_lines_bert(x):\n",
    "    tokens_a = bert_tokenizer.tokenize(x)\n",
    "    if len(tokens_a) > MAX_SEQUENCE_LENGTH:\n",
    "        tokens_a = tokens_a[-MAX_SEQUENCE_LENGTH:]\n",
    "    \n",
    "    one_token = bert_tokenizer.convert_tokens_to_ids([\"[CLS]\"] + tokens_a + [\"[SEP]\"]) + \\\n",
    "                [0]*(MAX_SEQUENCE_LENGTH-len(tokens_a))\n",
    "    \n",
    "    return np.array(one_token)\n",
    "\n",
    "test = pd.read_csv(\"../input/jigsaw-unintended-bias-in-toxicity-classification/test.csv\")\n",
    "test['comment_text'] = test['comment_text'].fillna(\"__NOT AVAILABLE__\").astype(str)\n",
    "\n",
    "X_test = np.array(Parallel(n_jobs=4,backend=\"multiprocessing\")(delayed(convert_lines_bert)(x) for x in test['comment_text'].copy()))\n",
    "print(X_test.shape)"
   ]
  },
  {
   "cell_type": "code",
   "execution_count": 7,
   "metadata": {},
   "outputs": [],
   "source": [
    "# bert_config"
   ]
  },
  {
   "cell_type": "code",
   "execution_count": 8,
   "metadata": {},
   "outputs": [
    {
     "name": "stderr",
     "output_type": "stream",
     "text": [
      "                                                 \r"
     ]
    },
    {
     "data": {
      "text/plain": [
       "array([0.05971995, 0.02074253, 0.12473429, 0.11312987, 0.85660744,\n",
       "       0.02587287, 0.08236159, 0.08498987, 0.19745827, 0.12781212])"
      ]
     },
     "execution_count": 8,
     "metadata": {},
     "output_type": "execute_result"
    }
   ],
   "source": [
    "file_names = [\n",
    "              'fine_tuned_bert_uncased_fold_4_seed_42.bin',\n",
    "              'fine_tuned_bert_uncased_fold_5_seed_42.bin'\n",
    "            ]\n",
    "\n",
    "aux_cols=['target','severe_toxicity','obscene','identity_attack','insult','threat']\n",
    "\n",
    "test_preds_uncased_bert = np.zeros((X_test.shape[0],))\n",
    "\n",
    "for filename in file_names:\n",
    "    model = BertForSequenceClassification(bert_config,num_labels=len(aux_cols)+1)\n",
    "    model.load_state_dict(torch.load(\"../input/jigsaw-models/\"+filename))\n",
    "    model.cuda()\n",
    "    for param in model.parameters():\n",
    "        param.requires_grad=False\n",
    "    model.eval()\n",
    "    \n",
    "    batch_size = 128\n",
    "    test_index = 0\n",
    "    test_preds_per_file = np.zeros((X_test.shape[0],))\n",
    "    test_dataset = TensorDataset(torch.tensor(X_test,dtype=torch.long))\n",
    "    test_loader = DataLoader(test_dataset,batch_size=batch_size,shuffle = False)  # set shuffle = False.\n",
    "    \n",
    "    for batch,(x_test,) in  tqdm(enumerate(test_loader),total = len(test_loader),leave = False):\n",
    "        x_test = x_test.cuda()\n",
    "        attention_mask = (x_test>0).cuda()\n",
    "        # the model gives logits .... \n",
    "        y_pred = torch.sigmoid(model.forward(x_test,attention_mask=attention_mask,labels=None))\n",
    "        \n",
    "        test_preds_per_file[test_index : test_index+x_test.shape[0]] = y_pred[:,0].cpu().detach().squeeze().numpy()\n",
    "        \n",
    "        test_index = test_index + x_test.shape[0]\n",
    "        \n",
    "    test_preds_uncased_bert = test_preds_uncased_bert + test_preds_per_file/len(file_names)\n",
    "    \n",
    "    gc.enable()\n",
    "    del model,test_dataset,test_loader,x_test\n",
    "    gc.collect()\n",
    "    \n",
    "gc.enable()\n",
    "del test,X_test,bert_tokenizer,bert_config\n",
    "gc.collect()\n",
    "\n",
    "test_preds_uncased_bert[0:10]"
   ]
  },
  {
   "cell_type": "markdown",
   "metadata": {},
   "source": [
    "## BERT CASED MODEL INFERENCE"
   ]
  },
  {
   "cell_type": "code",
   "execution_count": 9,
   "metadata": {},
   "outputs": [],
   "source": [
    "# %%time\n",
    "# MAX_SEQUENCE_LENGTH = 250\n",
    "# SEED = 42\n",
    "\n",
    "# package_dir_a = \"../input/ppbert/pytorch-pretrained-bert/pytorch-pretrained-BERT/\"\n",
    "# BERT_MODEL_PATH = '../input/bert-pretrained-models/cased_l-12_h-768_a-12/cased_L-12_H-768_A-12/'\n",
    "\n",
    "# from pytorch_pretrained_bert.modeling import BertPreTrainedModel, BertConfig\n",
    "# from pytorch_pretrained_bert import convert_tf_checkpoint_to_pytorch\n",
    "# from pytorch_pretrained_bert import BertTokenizer,BertAdam,BertModel\n",
    "# bert_config = BertConfig.from_json_file(BERT_MODEL_PATH + 'bert_config.json')\n",
    "\n",
    "# class BertForSequenceClassification(BertPreTrainedModel):\n",
    "#     \"\"\"BERT model for classification.\"\"\"\n",
    "#     def __init__(self, config, num_labels=2):\n",
    "#         super(BertForSequenceClassification, self).__init__(config)\n",
    "#         self.num_labels = num_labels\n",
    "#         self.bert = BertModel(config)\n",
    "#         self.dropout = nn.Dropout(config.hidden_dropout_prob)\n",
    "#         self.classifier = nn.Linear(2304, num_labels)\n",
    "#         self.apply(self.init_bert_weights)\n",
    "\n",
    "#     def forward(self, input_ids, token_type_ids=None, attention_mask=None, labels=None):\n",
    "#         layer_output, pooled_output = self.bert(input_ids, token_type_ids, attention_mask, output_all_encoded_layers=False)\n",
    "#         avg_pool = torch.mean(layer_output, 1)\n",
    "#         max_pool, _ = torch.max(layer_output, 1)\n",
    "#         h_conc = torch.cat((avg_pool, max_pool, pooled_output), 1)\n",
    "#         # final_output = torch.cat((h_conc, pooled_output), 1)\n",
    "#         pooled_output = self.dropout(h_conc)\n",
    "#         logits = self.classifier(pooled_output)\n",
    "\n",
    "#         if labels is not None:\n",
    "#             loss_fct = CrossEntropyLoss()\n",
    "#             loss = loss_fct(logits.view(-1, self.num_labels), labels.view(-1))\n",
    "#             return loss\n",
    "#         else:\n",
    "#             return logits\n",
    "        \n",
    "# bert_tokenizer = BertTokenizer.from_pretrained(BERT_MODEL_PATH+\"vocab.txt\", cache_dir=None,do_lower_case=False)\n",
    "# bert_config = BertConfig.from_json_file(BERT_MODEL_PATH + 'bert_config.json')\n",
    "\n",
    "# def convert_lines_bert(x):\n",
    "#     tokens_a = bert_tokenizer.tokenize(x)\n",
    "#     if len(tokens_a) > MAX_SEQUENCE_LENGTH:\n",
    "#         tokens_a = tokens_a[-MAX_SEQUENCE_LENGTH:]\n",
    "    \n",
    "#     one_token = bert_tokenizer.convert_tokens_to_ids([\"[CLS]\"] + tokens_a + [\"[SEP]\"]) + \\\n",
    "#                 [0]*(MAX_SEQUENCE_LENGTH-len(tokens_a))\n",
    "    \n",
    "#     return np.array(one_token)\n",
    "\n",
    "# test = pd.read_csv(\"../input/jigsaw-unintended-bias-in-toxicity-classification/test.csv\")\n",
    "# test['comment_text'] = test['comment_text'].fillna(\"__NOT AVAILABLE__\").astype(str)\n",
    "\n",
    "# X_test = np.array(Parallel(n_jobs=4,backend=\"multiprocessing\")(delayed(convert_lines_bert)(x) for x in test['comment_text'].copy()))\n",
    "# print(X_test.shape)"
   ]
  },
  {
   "cell_type": "code",
   "execution_count": 10,
   "metadata": {},
   "outputs": [],
   "source": [
    "# ! ls ../input/"
   ]
  },
  {
   "cell_type": "code",
   "execution_count": 11,
   "metadata": {},
   "outputs": [],
   "source": [
    "\n",
    "# file_names = [\n",
    "#               'fine_tuned_bert_cased_fold_1_seed_42.bin',\n",
    "#               'fine_tuned_bert_cased_fold_3_seed_42.bin'\n",
    "#              ]\n",
    "\n",
    "\n",
    "# aux_cols=['target','severe_toxicity','obscene','identity_attack','insult','threat']\n",
    "\n",
    "# test_preds_cased_bert = np.zeros((X_test.shape[0],))\n",
    "\n",
    "# is_sigmoid = True\n",
    "\n",
    "# for filename in file_names:\n",
    "#     model = BertForSequenceClassification(bert_config,num_labels=len(aux_cols)+1)\n",
    "#     model.load_state_dict(torch.load(\"../input/new-cased-bert-models-fold012/\"+filename))\n",
    "#     model = model.cuda()\n",
    "#     for param in model.parameters():\n",
    "#         param.requires_grad=False\n",
    "#     model.eval()\n",
    "    \n",
    "#     batch_size = 128\n",
    "#     test_index = 0\n",
    "#     test_preds_per_file = np.zeros((X_test.shape[0],))\n",
    "#     test_dataset = TensorDataset(torch.tensor(X_test,dtype=torch.long))\n",
    "#     test_loader = DataLoader(test_dataset,batch_size=batch_size,shuffle = False)  # set shuffle = False.\n",
    "    \n",
    "#     for batch,(x_test,) in  tqdm(enumerate(test_loader),total = len(test_loader),leave = False):\n",
    "#         x_test = x_test.cuda()\n",
    "#         attention_mask = (x_test>0).cuda()\n",
    "#         # the model gives logits .... \n",
    "#         if is_sigmoid:\n",
    "#             y_pred = torch.sigmoid(model.forward(x_test,attention_mask=attention_mask,labels=None))\n",
    "#         else:\n",
    "#             y_pred = (model.forward(x_test,attention_mask=attention_mask,labels=None))\n",
    "#         test_preds_per_file[test_index : test_index+x_test.shape[0]] = y_pred[:,0].cpu().detach().squeeze().numpy()\n",
    "        \n",
    "#         test_index = test_index + x_test.shape[0]\n",
    "        \n",
    "#     test_preds_cased_bert = test_preds_cased_bert + test_preds_per_file/len(file_names)\n",
    "    \n",
    "#     gc.enable()\n",
    "#     del model,test_dataset,test_loader,x_test\n",
    "#     gc.collect()\n",
    "\n",
    "# if not is_sigmoid:\n",
    "#     test_preds_cased_bert = sigmoid(test_preds_cased_bert)\n",
    "\n",
    "# gc.enable()\n",
    "# del test,X_test,bert_tokenizer,bert_config\n",
    "# gc.collect()\n",
    "    \n",
    "# test_preds_cased_bert[0:10]\n"
   ]
  },
  {
   "cell_type": "markdown",
   "metadata": {},
   "source": [
    "### SUBMISSION FILE"
   ]
  },
  {
   "cell_type": "code",
   "execution_count": 12,
   "metadata": {},
   "outputs": [
    {
     "name": "stdout",
     "output_type": "stream",
     "text": [
      "(97320, 2)\n"
     ]
    },
    {
     "data": {
      "text/html": [
       "<div>\n",
       "<style scoped>\n",
       "    .dataframe tbody tr th:only-of-type {\n",
       "        vertical-align: middle;\n",
       "    }\n",
       "\n",
       "    .dataframe tbody tr th {\n",
       "        vertical-align: top;\n",
       "    }\n",
       "\n",
       "    .dataframe thead th {\n",
       "        text-align: right;\n",
       "    }\n",
       "</style>\n",
       "<table border=\"1\" class=\"dataframe\">\n",
       "  <thead>\n",
       "    <tr style=\"text-align: right;\">\n",
       "      <th></th>\n",
       "      <th>id</th>\n",
       "      <th>prediction</th>\n",
       "    </tr>\n",
       "  </thead>\n",
       "  <tbody>\n",
       "    <tr>\n",
       "      <th>0</th>\n",
       "      <td>7000000</td>\n",
       "      <td>0.056231</td>\n",
       "    </tr>\n",
       "    <tr>\n",
       "      <th>1</th>\n",
       "      <td>7000001</td>\n",
       "      <td>0.024641</td>\n",
       "    </tr>\n",
       "    <tr>\n",
       "      <th>2</th>\n",
       "      <td>7000002</td>\n",
       "      <td>0.130962</td>\n",
       "    </tr>\n",
       "    <tr>\n",
       "      <th>3</th>\n",
       "      <td>7000003</td>\n",
       "      <td>0.084411</td>\n",
       "    </tr>\n",
       "    <tr>\n",
       "      <th>4</th>\n",
       "      <td>7000004</td>\n",
       "      <td>0.826951</td>\n",
       "    </tr>\n",
       "  </tbody>\n",
       "</table>\n",
       "</div>"
      ],
      "text/plain": [
       "        id  prediction\n",
       "0  7000000    0.056231\n",
       "1  7000001    0.024641\n",
       "2  7000002    0.130962\n",
       "3  7000003    0.084411\n",
       "4  7000004    0.826951"
      ]
     },
     "execution_count": 12,
     "metadata": {},
     "output_type": "execute_result"
    }
   ],
   "source": [
    "# probability blend\n",
    "# sample['prediction'] = 0.7*(test_preds_uncased_bert) + 0.0*(test_preds_gpt2) + 0.3*(test_preds_cased_bert) \n",
    "sample['prediction'] = 0.25*(test_preds_uncased_bert) + 0.75*(test_preds_new_uncased_bert)\n",
    "print(sample.shape)\n",
    "sample.head()"
   ]
  },
  {
   "cell_type": "code",
   "execution_count": 13,
   "metadata": {},
   "outputs": [],
   "source": [
    "# sample1=pd.read_csv(\"../input/jigsaw-unintended-bias-in-toxicity-classification/sample_submission.csv\")\n",
    "# print(sample1.shape)\n",
    "# sample1['prediction'] = 0.4*(test_preds_uncased_bert) + 0.6*(test_preds_new_uncased_bert)\n",
    "# sample1['prediction1'] = 0.3*(test_preds_uncased_bert) + 0.7*(test_preds_new_uncased_bert)\n",
    "# sample1.head()\n",
    "# sample1.to_csv(\"submission1.csv\",index=False)"
   ]
  },
  {
   "cell_type": "code",
   "execution_count": 14,
   "metadata": {},
   "outputs": [],
   "source": [
    "# # logit blend\n",
    "# test_preds_logit = logit(test_preds)\n",
    "# test_preds_cased_bert_logit = logit(test_preds_cased_bert)\n",
    "# test_preds_uncased_bert_logit = logit(test_preds_uncased_bert)\n",
    "\n",
    "# sample['prediction'] = 0.34*(test_preds_logit) + 0.33*(test_preds_cased_bert_logit) + \\\n",
    "#                         0.33*(test_preds_uncased_bert_logit)\n",
    "\n",
    "# print(sample.shape)\n",
    "# sample.head()"
   ]
  },
  {
   "cell_type": "code",
   "execution_count": 15,
   "metadata": {},
   "outputs": [],
   "source": [
    "sample.to_csv(\"submission.csv\",index=False)"
   ]
  },
  {
   "cell_type": "code",
   "execution_count": 16,
   "metadata": {},
   "outputs": [
    {
     "name": "stdout",
     "output_type": "stream",
     "text": [
      "The total run time of the kernel is 6653.8334374427795\n"
     ]
    }
   ],
   "source": [
    "print(\"The total run time of the kernel is\",time.time()-t1)"
   ]
  }
 ],
 "metadata": {
  "kernelspec": {
   "display_name": "Python 3",
   "language": "python",
   "name": "python3"
  },
  "language_info": {
   "codemirror_mode": {
    "name": "ipython",
    "version": 3
   },
   "file_extension": ".py",
   "mimetype": "text/x-python",
   "name": "python",
   "nbconvert_exporter": "python",
   "pygments_lexer": "ipython3",
   "version": "3.6.6"
  }
 },
 "nbformat": 4,
 "nbformat_minor": 1
}
